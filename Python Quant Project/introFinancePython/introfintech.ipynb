{
 "cells": [
  {
   "cell_type": "code",
   "execution_count": 32,
   "metadata": {},
   "outputs": [],
   "source": [
    "import pandas as pd\n",
    "import numpy as np\n",
    "import yfinance as yf\n",
    "import matplotlib.pyplot as plt\n",
    "\n"
   ]
  },
  {
   "cell_type": "code",
   "execution_count": 33,
   "metadata": {},
   "outputs": [],
   "source": [
    "start_date = '2005-01-01'\n",
    "end_date = '2023-02-01'"
   ]
  },
  {
   "cell_type": "code",
   "execution_count": 34,
   "metadata": {},
   "outputs": [
    {
     "name": "stderr",
     "output_type": "stream",
     "text": [
      "[*********************100%%**********************]  1 of 1 completed\n"
     ]
    }
   ],
   "source": [
    "ticker = 'SPY'\n",
    "df = yf.download(ticker, start_date, end_date)"
   ]
  },
  {
   "cell_type": "code",
   "execution_count": 35,
   "metadata": {},
   "outputs": [
    {
     "data": {
      "text/html": [
       "<div>\n",
       "<style scoped>\n",
       "    .dataframe tbody tr th:only-of-type {\n",
       "        vertical-align: middle;\n",
       "    }\n",
       "\n",
       "    .dataframe tbody tr th {\n",
       "        vertical-align: top;\n",
       "    }\n",
       "\n",
       "    .dataframe thead th {\n",
       "        text-align: right;\n",
       "    }\n",
       "</style>\n",
       "<table border=\"1\" class=\"dataframe\">\n",
       "  <thead>\n",
       "    <tr style=\"text-align: right;\">\n",
       "      <th></th>\n",
       "      <th>Open</th>\n",
       "      <th>High</th>\n",
       "      <th>Low</th>\n",
       "      <th>Close</th>\n",
       "      <th>Adj Close</th>\n",
       "      <th>Volume</th>\n",
       "    </tr>\n",
       "    <tr>\n",
       "      <th>Date</th>\n",
       "      <th></th>\n",
       "      <th></th>\n",
       "      <th></th>\n",
       "      <th></th>\n",
       "      <th></th>\n",
       "      <th></th>\n",
       "    </tr>\n",
       "  </thead>\n",
       "  <tbody>\n",
       "    <tr>\n",
       "      <th>2005-01-03</th>\n",
       "      <td>121.559998</td>\n",
       "      <td>121.760002</td>\n",
       "      <td>119.900002</td>\n",
       "      <td>120.300003</td>\n",
       "      <td>83.364372</td>\n",
       "      <td>55748000</td>\n",
       "    </tr>\n",
       "    <tr>\n",
       "      <th>2005-01-04</th>\n",
       "      <td>120.459999</td>\n",
       "      <td>120.540001</td>\n",
       "      <td>118.440002</td>\n",
       "      <td>118.830002</td>\n",
       "      <td>82.345711</td>\n",
       "      <td>69167600</td>\n",
       "    </tr>\n",
       "    <tr>\n",
       "      <th>2005-01-05</th>\n",
       "      <td>118.739998</td>\n",
       "      <td>119.250000</td>\n",
       "      <td>118.000000</td>\n",
       "      <td>118.010002</td>\n",
       "      <td>81.777466</td>\n",
       "      <td>65667300</td>\n",
       "    </tr>\n",
       "    <tr>\n",
       "      <th>2005-01-06</th>\n",
       "      <td>118.440002</td>\n",
       "      <td>119.150002</td>\n",
       "      <td>118.260002</td>\n",
       "      <td>118.610001</td>\n",
       "      <td>82.193230</td>\n",
       "      <td>47814700</td>\n",
       "    </tr>\n",
       "    <tr>\n",
       "      <th>2005-01-07</th>\n",
       "      <td>118.970001</td>\n",
       "      <td>119.230003</td>\n",
       "      <td>118.129997</td>\n",
       "      <td>118.440002</td>\n",
       "      <td>82.075439</td>\n",
       "      <td>55847700</td>\n",
       "    </tr>\n",
       "  </tbody>\n",
       "</table>\n",
       "</div>"
      ],
      "text/plain": [
       "                  Open        High         Low       Close  Adj Close    Volume\n",
       "Date                                                                           \n",
       "2005-01-03  121.559998  121.760002  119.900002  120.300003  83.364372  55748000\n",
       "2005-01-04  120.459999  120.540001  118.440002  118.830002  82.345711  69167600\n",
       "2005-01-05  118.739998  119.250000  118.000000  118.010002  81.777466  65667300\n",
       "2005-01-06  118.440002  119.150002  118.260002  118.610001  82.193230  47814700\n",
       "2005-01-07  118.970001  119.230003  118.129997  118.440002  82.075439  55847700"
      ]
     },
     "execution_count": 35,
     "metadata": {},
     "output_type": "execute_result"
    }
   ],
   "source": [
    "df.head()"
   ]
  },
  {
   "cell_type": "code",
   "execution_count": 36,
   "metadata": {},
   "outputs": [
    {
     "data": {
      "text/html": [
       "<div>\n",
       "<style scoped>\n",
       "    .dataframe tbody tr th:only-of-type {\n",
       "        vertical-align: middle;\n",
       "    }\n",
       "\n",
       "    .dataframe tbody tr th {\n",
       "        vertical-align: top;\n",
       "    }\n",
       "\n",
       "    .dataframe thead th {\n",
       "        text-align: right;\n",
       "    }\n",
       "</style>\n",
       "<table border=\"1\" class=\"dataframe\">\n",
       "  <thead>\n",
       "    <tr style=\"text-align: right;\">\n",
       "      <th></th>\n",
       "      <th>Open</th>\n",
       "      <th>High</th>\n",
       "      <th>Low</th>\n",
       "      <th>Close</th>\n",
       "      <th>Adj Close</th>\n",
       "      <th>Volume</th>\n",
       "    </tr>\n",
       "  </thead>\n",
       "  <tbody>\n",
       "    <tr>\n",
       "      <th>2005-01-03</th>\n",
       "      <td>121.559998</td>\n",
       "      <td>121.760002</td>\n",
       "      <td>119.900002</td>\n",
       "      <td>120.300003</td>\n",
       "      <td>83.364372</td>\n",
       "      <td>55748000</td>\n",
       "    </tr>\n",
       "    <tr>\n",
       "      <th>2005-01-04</th>\n",
       "      <td>120.459999</td>\n",
       "      <td>120.540001</td>\n",
       "      <td>118.440002</td>\n",
       "      <td>118.830002</td>\n",
       "      <td>82.345711</td>\n",
       "      <td>69167600</td>\n",
       "    </tr>\n",
       "    <tr>\n",
       "      <th>2005-01-05</th>\n",
       "      <td>118.739998</td>\n",
       "      <td>119.250000</td>\n",
       "      <td>118.000000</td>\n",
       "      <td>118.010002</td>\n",
       "      <td>81.777466</td>\n",
       "      <td>65667300</td>\n",
       "    </tr>\n",
       "    <tr>\n",
       "      <th>2005-01-06</th>\n",
       "      <td>118.440002</td>\n",
       "      <td>119.150002</td>\n",
       "      <td>118.260002</td>\n",
       "      <td>118.610001</td>\n",
       "      <td>82.193230</td>\n",
       "      <td>47814700</td>\n",
       "    </tr>\n",
       "    <tr>\n",
       "      <th>2005-01-07</th>\n",
       "      <td>118.970001</td>\n",
       "      <td>119.230003</td>\n",
       "      <td>118.129997</td>\n",
       "      <td>118.440002</td>\n",
       "      <td>82.075439</td>\n",
       "      <td>55847700</td>\n",
       "    </tr>\n",
       "  </tbody>\n",
       "</table>\n",
       "</div>"
      ],
      "text/plain": [
       "                  Open        High         Low       Close  Adj Close    Volume\n",
       "2005-01-03  121.559998  121.760002  119.900002  120.300003  83.364372  55748000\n",
       "2005-01-04  120.459999  120.540001  118.440002  118.830002  82.345711  69167600\n",
       "2005-01-05  118.739998  119.250000  118.000000  118.010002  81.777466  65667300\n",
       "2005-01-06  118.440002  119.150002  118.260002  118.610001  82.193230  47814700\n",
       "2005-01-07  118.970001  119.230003  118.129997  118.440002  82.075439  55847700"
      ]
     },
     "execution_count": 36,
     "metadata": {},
     "output_type": "execute_result"
    }
   ],
   "source": [
    "#convert.index to date get rid of time stamps\n",
    "df.index = df.index.date\n",
    "df.head()"
   ]
  },
  {
   "cell_type": "markdown",
   "metadata": {},
   "source": [
    "Compute the Daily returns of the item"
   ]
  },
  {
   "cell_type": "code",
   "execution_count": 37,
   "metadata": {},
   "outputs": [
    {
     "data": {
      "text/html": [
       "<div>\n",
       "<style scoped>\n",
       "    .dataframe tbody tr th:only-of-type {\n",
       "        vertical-align: middle;\n",
       "    }\n",
       "\n",
       "    .dataframe tbody tr th {\n",
       "        vertical-align: top;\n",
       "    }\n",
       "\n",
       "    .dataframe thead th {\n",
       "        text-align: right;\n",
       "    }\n",
       "</style>\n",
       "<table border=\"1\" class=\"dataframe\">\n",
       "  <thead>\n",
       "    <tr style=\"text-align: right;\">\n",
       "      <th></th>\n",
       "      <th>Open</th>\n",
       "      <th>High</th>\n",
       "      <th>Low</th>\n",
       "      <th>Close</th>\n",
       "      <th>Adj Close</th>\n",
       "      <th>Volume</th>\n",
       "      <th>R</th>\n",
       "    </tr>\n",
       "  </thead>\n",
       "  <tbody>\n",
       "    <tr>\n",
       "      <th>2005-01-03</th>\n",
       "      <td>121.559998</td>\n",
       "      <td>121.760002</td>\n",
       "      <td>119.900002</td>\n",
       "      <td>120.300003</td>\n",
       "      <td>83.364372</td>\n",
       "      <td>55748000</td>\n",
       "      <td>NaN</td>\n",
       "    </tr>\n",
       "    <tr>\n",
       "      <th>2005-01-04</th>\n",
       "      <td>120.459999</td>\n",
       "      <td>120.540001</td>\n",
       "      <td>118.440002</td>\n",
       "      <td>118.830002</td>\n",
       "      <td>82.345711</td>\n",
       "      <td>69167600</td>\n",
       "      <td>-0.012219</td>\n",
       "    </tr>\n",
       "    <tr>\n",
       "      <th>2005-01-05</th>\n",
       "      <td>118.739998</td>\n",
       "      <td>119.250000</td>\n",
       "      <td>118.000000</td>\n",
       "      <td>118.010002</td>\n",
       "      <td>81.777466</td>\n",
       "      <td>65667300</td>\n",
       "      <td>-0.006901</td>\n",
       "    </tr>\n",
       "  </tbody>\n",
       "</table>\n",
       "</div>"
      ],
      "text/plain": [
       "                  Open        High         Low  ...  Adj Close    Volume         R\n",
       "2005-01-03  121.559998  121.760002  119.900002  ...  83.364372  55748000       NaN\n",
       "2005-01-04  120.459999  120.540001  118.440002  ...  82.345711  69167600 -0.012219\n",
       "2005-01-05  118.739998  119.250000  118.000000  ...  81.777466  65667300 -0.006901\n",
       "\n",
       "[3 rows x 7 columns]"
      ]
     },
     "execution_count": 37,
     "metadata": {},
     "output_type": "execute_result"
    }
   ],
   "source": [
    "df['R'] = df['Adj Close'].pct_change()\n",
    "df.head(3)"
   ]
  }
 ],
 "metadata": {
  "kernelspec": {
   "display_name": "Python 3",
   "language": "python",
   "name": "python3"
  },
  "language_info": {
   "codemirror_mode": {
    "name": "ipython",
    "version": 3
   },
   "file_extension": ".py",
   "mimetype": "text/x-python",
   "name": "python",
   "nbconvert_exporter": "python",
   "pygments_lexer": "ipython3",
   "version": "3.12.4"
  }
 },
 "nbformat": 4,
 "nbformat_minor": 2
}
